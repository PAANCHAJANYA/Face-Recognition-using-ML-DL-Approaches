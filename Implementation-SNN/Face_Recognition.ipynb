{
 "cells": [
  {
   "cell_type": "code",
   "execution_count": 1,
   "metadata": {
    "colab": {
     "base_uri": "https://localhost:8080/"
    },
    "id": "8LUDq8jlghro",
    "outputId": "670f2b26-ca35-46c7-92f2-b6bb7f368e40"
   },
   "outputs": [
    {
     "name": "stdout",
     "output_type": "stream",
     "text": [
      "Drive already mounted at /content/drive/; to attempt to forcibly remount, call drive.mount(\"/content/drive/\", force_remount=True).\n"
     ]
    }
   ],
   "source": [
    "from google.colab import drive\n",
    "drive.mount('/content/drive/')"
   ]
  },
  {
   "cell_type": "code",
   "execution_count": 2,
   "metadata": {
    "colab": {
     "base_uri": "https://localhost:8080/"
    },
    "id": "9ubwPKjwlQvP",
    "outputId": "0e0450df-6a52-4568-e955-3e2710b03f1a"
   },
   "outputs": [
    {
     "name": "stdout",
     "output_type": "stream",
     "text": [
      "TensorFlow 1.x selected.\n",
      "1.15.2\n"
     ]
    }
   ],
   "source": [
    "%tensorflow_version 1.x\n",
    "import tensorflow\n",
    "print(tensorflow.__version__)"
   ]
  },
  {
   "cell_type": "code",
   "execution_count": 3,
   "metadata": {
    "colab": {
     "base_uri": "https://localhost:8080/"
    },
    "id": "7MyQFB4NldiM",
    "outputId": "17358a43-96b8-4022-bdd1-331f93031e32"
   },
   "outputs": [
    {
     "name": "stdout",
     "output_type": "stream",
     "text": [
      "Found existing installation: h5py 2.10.0\n",
      "Uninstalling h5py-2.10.0:\n",
      "  Would remove:\n",
      "    /usr/local/lib/python3.7/dist-packages/h5py-2.10.0.dist-info/*\n",
      "    /usr/local/lib/python3.7/dist-packages/h5py/*\n",
      "Proceed (y/n)? n\n",
      "Requirement already satisfied: h5py==2.10.0 in /usr/local/lib/python3.7/dist-packages (2.10.0)\n",
      "Requirement already satisfied: six in /usr/local/lib/python3.7/dist-packages (from h5py==2.10.0) (1.15.0)\n",
      "Requirement already satisfied: numpy>=1.7 in /usr/local/lib/python3.7/dist-packages (from h5py==2.10.0) (1.21.6)\n",
      "Requirement already satisfied: mtcnn in /usr/local/lib/python3.7/dist-packages (0.1.1)\n",
      "Requirement already satisfied: opencv-python>=4.1.0 in /usr/local/lib/python3.7/dist-packages (from mtcnn) (4.1.2.30)\n",
      "Requirement already satisfied: keras>=2.0.0 in /tensorflow-1.15.2/python3.7 (from mtcnn) (2.3.1)\n",
      "Requirement already satisfied: pyyaml in /usr/local/lib/python3.7/dist-packages (from keras>=2.0.0->mtcnn) (3.13)\n",
      "Requirement already satisfied: numpy>=1.9.1 in /usr/local/lib/python3.7/dist-packages (from keras>=2.0.0->mtcnn) (1.21.6)\n",
      "Requirement already satisfied: scipy>=0.14 in /usr/local/lib/python3.7/dist-packages (from keras>=2.0.0->mtcnn) (1.4.1)\n",
      "Requirement already satisfied: keras-preprocessing>=1.0.5 in /usr/local/lib/python3.7/dist-packages (from keras>=2.0.0->mtcnn) (1.1.2)\n",
      "Requirement already satisfied: six>=1.9.0 in /usr/local/lib/python3.7/dist-packages (from keras>=2.0.0->mtcnn) (1.15.0)\n",
      "Requirement already satisfied: h5py in /usr/local/lib/python3.7/dist-packages (from keras>=2.0.0->mtcnn) (2.10.0)\n",
      "Requirement already satisfied: keras-applications>=1.0.6 in /tensorflow-1.15.2/python3.7 (from keras>=2.0.0->mtcnn) (1.0.8)\n"
     ]
    },
    {
     "name": "stderr",
     "output_type": "stream",
     "text": [
      "Using TensorFlow backend.\n"
     ]
    }
   ],
   "source": [
    "!pip uninstall h5py\n",
    "!pip install h5py==2.10.0\n",
    "!pip install mtcnn\n",
    "import os\n",
    "import numpy as np\n",
    "import cv2\n",
    "from PIL import Image\n",
    "from numpy import asarray\n",
    "from mtcnn.mtcnn import MTCNN\n",
    "from keras.models import load_model,model_from_json"
   ]
  },
  {
   "cell_type": "code",
   "execution_count": 4,
   "metadata": {
    "colab": {
     "base_uri": "https://localhost:8080/"
    },
    "id": "Le02YLB8lnWl",
    "outputId": "b11ddcac-74bf-418e-aaf7-aada6a822207"
   },
   "outputs": [
    {
     "name": "stdout",
     "output_type": "stream",
     "text": [
      "WARNING:tensorflow:From /tensorflow-1.15.2/python3.7/tensorflow_core/python/ops/resource_variable_ops.py:1630: calling BaseResourceVariable.__init__ (from tensorflow.python.ops.resource_variable_ops) with constraint is deprecated and will be removed in a future version.\n",
      "Instructions for updating:\n",
      "If using Keras pass *_constraint arguments to layers.\n",
      "WARNING:tensorflow:From /tensorflow-1.15.2/python3.7/keras/backend/tensorflow_backend.py:4070: The name tf.nn.max_pool is deprecated. Please use tf.nn.max_pool2d instead.\n",
      "\n"
     ]
    }
   ],
   "source": [
    "model_path = \"/content/drive/MyDrive/Version3/Inception_ResNet_v1.json\"\n",
    "json_file = open(model_path, 'r')\n",
    "loaded_model_json = json_file.read()\n",
    "json_file.close()\n",
    "enc_model = model_from_json(loaded_model_json)\n",
    "enc_model.load_weights('/content/drive/MyDrive/Version3/facenet_keras_weights.h5')"
   ]
  },
  {
   "cell_type": "code",
   "execution_count": 5,
   "metadata": {
    "id": "FsiOIqgQqJ8c"
   },
   "outputs": [],
   "source": [
    "mtcnn_detector = MTCNN()"
   ]
  },
  {
   "cell_type": "code",
   "execution_count": 6,
   "metadata": {
    "id": "XXXADFrXqKUE"
   },
   "outputs": [],
   "source": [
    "def detect_face(filename, required_size=(160, 160),normalize = True):\n",
    "    img = Image.open(filename)\n",
    "    img = img.convert('RGB')\n",
    "    pixels = np.asarray(img)\n",
    "    results = mtcnn_detector.detect_faces(pixels)\n",
    "    if len(results)==0:\n",
    "        return []\n",
    "    x1, y1, width, height = results[0]['box']\n",
    "    x1, y1 = abs(x1), abs(y1)\n",
    "    x2, y2 = x1 + width, y1 + height\n",
    "    face = pixels[y1:y2, x1:x2]\n",
    "    image = Image.fromarray(face)\n",
    "    image = image.resize(required_size)\n",
    "    face_array = asarray(image)\n",
    "    if normalize == True:\n",
    "        mean = np.mean(face_array, axis=(0,1,2), keepdims=True)\n",
    "        std = np.std(face_array, axis=(0,1,2), keepdims=True)\n",
    "        std_adj = np.maximum(std, 1.0)\n",
    "        return (face_array - mean) / std\n",
    "    else:\n",
    "        return face_array"
   ]
  },
  {
   "cell_type": "code",
   "execution_count": 8,
   "metadata": {
    "id": "-jaMudPDqUeZ"
   },
   "outputs": [],
   "source": [
    "known_faces_encodings = []\n",
    "known_faces_ids = []\n",
    "known_faces_path = \"/content/drive/MyDrive/Version3/Face_database/\"\n",
    "for filename in os.listdir(known_faces_path):\n",
    "    face = detect_face(known_faces_path+filename,normalize = True)\n",
    "    if(len(face)==0):\n",
    "        continue\n",
    "    feature_vector = enc_model.predict(face.reshape(1,160,160,3))\n",
    "    feature_vector/= np.sqrt(np.sum(feature_vector**2))\n",
    "    known_faces_encodings.append(feature_vector)\n",
    "    label = filename.split('.')[0]\n",
    "    known_faces_ids.append(label)\n",
    "known_faces_encodings = np.array(known_faces_encodings).reshape(len(known_faces_encodings),128)\n",
    "known_faces_ids = np.array(known_faces_ids)"
   ]
  },
  {
   "cell_type": "code",
   "execution_count": 9,
   "metadata": {
    "colab": {
     "base_uri": "https://localhost:8080/"
    },
    "id": "Tu13VUccqx2k",
    "outputId": "ab690832-e5fb-4c37-a12d-7d78f485ca7d"
   },
   "outputs": [
    {
     "name": "stdout",
     "output_type": "stream",
     "text": [
      "170\n"
     ]
    }
   ],
   "source": [
    "print(known_faces_ids.shape[0])"
   ]
  },
  {
   "cell_type": "code",
   "execution_count": 10,
   "metadata": {
    "id": "2yFee1b4r5fd"
   },
   "outputs": [],
   "source": [
    "def recognize(img,known_faces_encodings,known_faces_ids,threshold = 0.75):\n",
    "    scores = np.zeros((len(known_faces_ids),1),dtype=float)\n",
    "    enc = enc_model.predict(img.reshape(1,160,160,3))\n",
    "    enc/= np.sqrt(np.sum(enc**2))\n",
    "    scores = np.sqrt(np.sum((enc-known_faces_encodings)**2,axis=1))\n",
    "    match = np.argmin(scores)\n",
    "    if scores[match] > threshold:\n",
    "        return (\"UNKNOWN\",0)\n",
    "    else:\n",
    "        return (known_faces_ids[match],scores[match])"
   ]
  },
  {
   "cell_type": "code",
   "execution_count": 11,
   "metadata": {
    "id": "sQYr7fHYr8wi"
   },
   "outputs": [],
   "source": [
    "def face_recognition(filePath, known_faces_encodings,known_faces_ids,threshold = 0.75):\n",
    "    img = cv2.imread(filePath)\n",
    "    results = mtcnn_detector.detect_faces(img)\n",
    "    if(len(results)==0):\n",
    "        print(\"No face\")\n",
    "        return\n",
    "    faces = []\n",
    "    for i in range(len(results)):\n",
    "        x,y,w,h = results[i]['box']\n",
    "        x, y = abs(x), abs(y)\n",
    "        faces.append([x,y,w,h])\n",
    "    for (x, y, w, h) in faces:\n",
    "        image = Image.fromarray(img[y:y+h, x:x+w])\n",
    "        image = image.resize((160,160))\n",
    "        face_array = asarray(image)\n",
    "        mean = np.mean(face_array, axis=(0,1,2), keepdims=True)\n",
    "        std = np.std(face_array, axis=(0,1,2), keepdims=True)\n",
    "        std_adj = np.maximum(std, 1.0)\n",
    "        face_array_normalized = (face_array - mean) / std\n",
    "        label = recognize(face_array_normalized,known_faces_encodings,known_faces_ids,threshold = 0.75)\n",
    "        print(label[0])"
   ]
  },
  {
   "cell_type": "code",
   "execution_count": 12,
   "metadata": {
    "id": "NokI2TJosmRc"
   },
   "outputs": [],
   "source": [
    "from IPython.display import display, Javascript\n",
    "from google.colab.output import eval_js\n",
    "from base64 import b64decode\n",
    "\n",
    "def take_photo(filename='photo.jpg', quality=0.8):\n",
    "    js = Javascript('''\n",
    "    async function takePhoto(quality) {\n",
    "      const div = document.createElement('div');\n",
    "      const capture = document.createElement('button');\n",
    "      capture.textContent = 'Capture';\n",
    "      div.appendChild(capture);\n",
    "\n",
    "      const video = document.createElement('video');\n",
    "      video.style.display = 'block';\n",
    "      const stream = await navigator.mediaDevices.getUserMedia({video: true});\n",
    "\n",
    "      document.body.appendChild(div);\n",
    "      div.appendChild(video);\n",
    "      video.srcObject = stream;\n",
    "      await video.play();\n",
    "\n",
    "      // Resize the output to fit the video element.\n",
    "      google.colab.output.setIframeHeight(document.documentElement.scrollHeight, true);\n",
    "\n",
    "      // Wait for Capture to be clicked.\n",
    "      await new Promise((resolve) => capture.onclick = resolve);\n",
    "\n",
    "      const canvas = document.createElement('canvas');\n",
    "      canvas.width = video.videoWidth;\n",
    "      canvas.height = video.videoHeight;\n",
    "      canvas.getContext('2d').drawImage(video, 0, 0);\n",
    "      stream.getVideoTracks()[0].stop();\n",
    "      div.remove();\n",
    "      return canvas.toDataURL('image/jpeg', quality);\n",
    "    }\n",
    "    ''')\n",
    "    display(js)\n",
    "    data = eval_js('takePhoto({})'.format(quality))\n",
    "    binary = b64decode(data.split(',')[1])\n",
    "    with open(filename, 'wb') as f:\n",
    "        f.write(binary)\n",
    "    return filename"
   ]
  },
  {
   "cell_type": "code",
   "execution_count": 13,
   "metadata": {
    "colab": {
     "base_uri": "https://localhost:8080/",
     "height": 532
    },
    "id": "VzpZs-I8smRe",
    "outputId": "58f00b67-c57d-4869-8334-829d6c515bf1"
   },
   "outputs": [
    {
     "data": {
      "application/javascript": [
       "\n",
       "    async function takePhoto(quality) {\n",
       "      const div = document.createElement('div');\n",
       "      const capture = document.createElement('button');\n",
       "      capture.textContent = 'Capture';\n",
       "      div.appendChild(capture);\n",
       "\n",
       "      const video = document.createElement('video');\n",
       "      video.style.display = 'block';\n",
       "      const stream = await navigator.mediaDevices.getUserMedia({video: true});\n",
       "\n",
       "      document.body.appendChild(div);\n",
       "      div.appendChild(video);\n",
       "      video.srcObject = stream;\n",
       "      await video.play();\n",
       "\n",
       "      // Resize the output to fit the video element.\n",
       "      google.colab.output.setIframeHeight(document.documentElement.scrollHeight, true);\n",
       "\n",
       "      // Wait for Capture to be clicked.\n",
       "      await new Promise((resolve) => capture.onclick = resolve);\n",
       "\n",
       "      const canvas = document.createElement('canvas');\n",
       "      canvas.width = video.videoWidth;\n",
       "      canvas.height = video.videoHeight;\n",
       "      canvas.getContext('2d').drawImage(video, 0, 0);\n",
       "      stream.getVideoTracks()[0].stop();\n",
       "      div.remove();\n",
       "      return canvas.toDataURL('image/jpeg', quality);\n",
       "    }\n",
       "    "
      ],
      "text/plain": [
       "<IPython.core.display.Javascript object>"
      ]
     },
     "metadata": {},
     "output_type": "display_data"
    },
    {
     "name": "stdout",
     "output_type": "stream",
     "text": [
      "Saved to photo.jpg\n"
     ]
    },
    {
     "data": {
      "image/jpeg": "[encoded data removed]",
      "text/plain": [
       "<IPython.core.display.Image object>"
      ]
     },
     "metadata": {},
     "output_type": "display_data"
    },
    {
     "name": "stdout",
     "output_type": "stream",
     "text": [
      "S01_(10)\n"
     ]
    }
   ],
   "source": [
    "from IPython.display import Image as imagebabu\n",
    "try:\n",
    "    filename = take_photo()\n",
    "    print('Saved to {}'.format(filename))\n",
    "    display(imagebabu(filename))\n",
    "    face_recognition(filename, known_faces_encodings,known_faces_ids,threshold = 0.75)\n",
    "except Exception as err:\n",
    "    print(str(err))"
   ]
  },
  {
   "cell_type": "code",
   "execution_count": null,
   "metadata": {
    "id": "00HE4c04vWxn"
   },
   "outputs": [],
   "source": []
  }
 ],
 "metadata": {
  "accelerator": "GPU",
  "colab": {
   "collapsed_sections": [],
   "name": "SNN_Version_3.ipynb",
   "provenance": []
  },
  "kernelspec": {
   "display_name": "Python 3 (ipykernel)",
   "language": "python",
   "name": "python3"
  },
  "language_info": {
   "codemirror_mode": {
    "name": "ipython",
    "version": 3
   },
   "file_extension": ".py",
   "mimetype": "text/x-python",
   "name": "python",
   "nbconvert_exporter": "python",
   "pygments_lexer": "ipython3",
   "version": "3.10.3"
  }
 },
 "nbformat": 4,
 "nbformat_minor": 1
}
